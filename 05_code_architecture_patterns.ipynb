{
 "cells": [
  {
   "cell_type": "markdown",
   "id": "5ed2620b",
   "metadata": {},
   "source": [
    "# 05 — Code Architecture Patterns for AI Apps\n",
    "\n",
    "This notebook shows **practical architecture patterns** for LLM apps that you can evolve from a workshop demo to small/medium services, and then to enterprise-grade systems.\n",
    "\n",
    "We will cover:\n",
    "- **Monolithic modular** (clean and minimal)\n",
    "- **Clean layers** (small/medium, recommended)\n",
    "- **Hexagonal / Ports & Adapters** (larger teams)\n",
    "- **RAG-first structure** (when retrieval is a core concern)\n",
    "\n",
    "> All code snippets are intentionally minimal. The goal is clarity and *separation of concerns*."
   ]
  },
  {
   "cell_type": "markdown",
   "id": "58534576",
   "metadata": {},
   "source": [
    "## Monolithic modular\n",
    "\n",
    "A compact structure where each file has a clear responsibility. Great for **workshops** and **small prototypes** that still need maintainability.\n",
    "\n",
    "```text\n",
    ".\n",
    "├─ .data/                 # persistent state (SQLite)\n",
    "├─ app/\n",
    "│  ├─ __init__.py\n",
    "│  ├─ config.py           # .env loading (models, paths, prompts)\n",
    "│  ├─ schema.py           # pydantic request/response\n",
    "│  ├─ graph.py            # LangGraph: state, nodes, trimming, LLM\n",
    "│  └─ main.py             # FastAPI: lifespan + /chat endpoint\n",
    "│  \n",
    "├─ .env\n",
    "├─ pyproject.toml\n",
    "└─ README.md\n",
    "```\n",
    "\n",
    "### Principles\n",
    "- **Separation of concerns**: `config` (env), `schema` (contracts), `graph` (conversational logic), `main` (server).\n",
    "- **Loosely coupled**: the graph does **not** know FastAPI; FastAPI does **not** know how you trim messages.\n",
    "- **Short, readable files**.\n",
    "- **Scalable without rewrites**: change model, add tools, or switch checkpointer without editing the endpoint.\n",
    "\n",
    "> With FastAPI lifespan you can avoid `runtime.py`. **No need for runtime.py** in this layout."
   ]
  },
  {
   "cell_type": "markdown",
   "id": "b0dddf75",
   "metadata": {},
   "source": [
    "### Minimalist variant (for demos/workshops)\n",
    "\n",
    "```text\n",
    "app/\n",
    "  ├─ main.py        # FastAPI + graph in the same file (all-in-one)\n",
    "  └─ config.py\n",
    ".env, pyproject.toml, README.md\n",
    "```\n",
    "\n",
    "**Pros**: ultra simple, single pass to understand.\n",
    "\n",
    "**Cons**: grows messy once you add tools, RAG, or multiple endpoints."
   ]
  },
  {
   "cell_type": "markdown",
   "id": "2f8b124e",
   "metadata": {},
   "source": [
    "## Clean layers (small/medium — recommended)\n",
    "\n",
    "A modular layout that scales well while staying straightforward.\n",
    "\n",
    "```text\n",
    "app/\n",
    "  ├─ api/\n",
    "  │   ├─ http.py          # endpoints & routers\n",
    "  │   └─ deps.py          # FastAPI dependencies\n",
    "  ├─ core/\n",
    "  │   ├─ config.py        # settings, load .env\n",
    "  │   ├─ schema.py        # Pydantic models\n",
    "  │   ├─ prompts.py       # centralized system prompts\n",
    "  │   └─ utils.py\n",
    "  ├─ graph/\n",
    "  │   ├─ state.py         # TypedDict/Pydantic: graph state\n",
    "  │   ├─ nodes.py         # graph nodes (respond, tools, summary)\n",
    "  │   ├─ memory.py        # checkpointers, trimming\n",
    "  │   └─ build.py         # build_graph() factory\n",
    "  ├─ services/\n",
    "  │   ├─ agents.py        # agent logic\n",
    "  │   └─ rag.py           # retrieval logic (optional)\n",
    "  └─ main.py              # FastAPI app + router registration\n",
    "```\n",
    "\n",
    "**Pros**: modular, testable, easy to extend (add summary node, plug RAG).\n",
    "\n",
    "**Cons**: more files than monolithic modular."
   ]
  },
  {
   "cell_type": "markdown",
   "id": "f1d974d8",
   "metadata": {},
   "source": [
    "## Hexagonal / Ports & Adapters (enterprise / larger teams)\n",
    "\n",
    "Strong decoupling. Domain logic independent from frameworks and vendors.\n",
    "\n",
    "```text\n",
    "app/\n",
    "├─ domain/              # business rules (e.g., memory policies)\n",
    "├─ application/         # use cases (invoke graph, validate inputs)\n",
    "├─ adapters/\n",
    "│   ├─ http/            # FastAPI\n",
    "│   ├─ llms/            # OpenAI, Azure, Anthropic (interfaces)\n",
    "│   ├─ memory/          # SqliteSaver, PostgresSaver, MemorySaver\n",
    "│   └─ retrievers/      # FAISS, Pinecone, etc.\n",
    "└─ infra/\n",
    "   ├─ logging.py\n",
    "   ├─ tracing.py\n",
    "   └─ settings.py\n",
    "```\n",
    "\n",
    "**Pros**: swap LLM/DB/vector store without touching domain.\n",
    "\n",
    "**Cons**: more ceremony; only worth it if you expect significant growth or multiple teams."
   ]
  },
  {
   "cell_type": "markdown",
   "id": "d8e87aeb",
   "metadata": {},
   "source": [
    "## RAG-first structure (when retrieval is central)\n",
    "\n",
    "When your app is primarily about **retrieval + generation**, make that explicit from day one.\n",
    "\n",
    "```text\n",
    "app/\n",
    "  ├─ api/\n",
    "  │   └─ chat.py\n",
    "  ├─ core/\n",
    "  │   ├─ config.py\n",
    "  │   └─ schema.py\n",
    "  ├─ graph/\n",
    "  │   ├─ nodes_chat.py\n",
    "  │   ├─ nodes_rag.py     # nodes that call retrievers\n",
    "  │   └─ build.py\n",
    "  ├─ rag/\n",
    "  │   ├─ ingest.py        # chunking + embeddings\n",
    "  │   ├─ retriever.py     # retrieval logic\n",
    "  │   ├─ store.py         # vector DB connection (FAISS, Pinecone…)\n",
    "  │   └─ schema.py        # chunk/document formats\n",
    "  └─ main.py\n",
    "```\n",
    "\n",
    "**Pros**: clear boundaries when teams split work (RAG vs chat/agents).\n",
    "\n",
    "**Cons**: extra complexity if you don’t actually need RAG yet."
   ]
  },
  {
   "cell_type": "markdown",
   "id": "6a4b304f",
   "metadata": {},
   "source": [
    "# Practical advice for your current repo\n",
    "\n",
    "- ✅ Keep **config.py / schema.py / graph.py / main.py**: clear and effective.\n",
    "- 🧹 **Remove `runtime.py`** if you already use lifespan (avoid cognitive duplication).\n",
    "- 🧪 Add `tests/` (at least one test for `/chat`).\n",
    "- 🩺 Consider `app/api/health.py` with `/healthz` and `/readyz`.\n",
    "- 📦 If planning Docker: `Dockerfile`, `docker-compose.yml`, and `alembic/` if you move to Postgres for persistence.\n",
    "\n",
    "> Start simple (monolithic modular), then move to clean layers as you add features. Keep **graph** and **API** independent by design."
   ]
  }
 ],
 "metadata": {
  "kernelspec": {
   "display_name": "Python 3 (ipykernel)",
   "language": "python",
   "name": "python3"
  },
  "language_info": {
   "codemirror_mode": {
    "name": "ipython",
    "version": 3
   },
   "file_extension": ".py",
   "mimetype": "text/x-python",
   "name": "python",
   "nbconvert_exporter": "python",
   "pygments_lexer": "ipython3",
   "version": "3.12.11"
  }
 },
 "nbformat": 4,
 "nbformat_minor": 5
}
