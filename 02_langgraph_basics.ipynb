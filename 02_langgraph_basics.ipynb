{
 "cells": [
  {
   "cell_type": "markdown",
   "id": "edc28c7e",
   "metadata": {},
   "source": [
    "# 02 — LangGraph Basics\n",
    "\n",
    "In this notebook, you’ll learn the core ideas behind **LangGraph**, a modern orchestration library built for **agentic workflows**.\n",
    "\n",
    "LangGraph lets you represent your logic as a **graph** — where each node is a runnable component (LLM, function, tool, etc.), and edges define how data flows between them.\n",
    "\n",
    "By the end of this notebook, you'll understand how to:\n",
    "- Create a minimal LangGraph graph\n",
    "- Define nodes and transitions\n",
    "- Pass and update **state** across nodes\n",
    "- Execute the graph step by step"
   ]
  },
  {
   "cell_type": "code",
   "execution_count": 1,
   "id": "7cdfd30e",
   "metadata": {},
   "outputs": [
    {
     "name": "stdout",
     "output_type": "stream",
     "text": [
      "✅ Environment loaded.\n"
     ]
    }
   ],
   "source": [
    "# --- Environment setup (load API keys & optional model) ---\n",
    "import os\n",
    "from dotenv import load_dotenv, find_dotenv\n",
    "\n",
    "_ = load_dotenv(find_dotenv())  # Load .env if present\n",
    "\n",
    "openai_api_key = os.getenv(\"OPENAI_API_KEY\")\n",
    "groq_api_key = os.getenv(\"GROQ_API_KEY\")\n",
    "\n",
    "print(\"✅ Environment loaded.\")\n",
    "\n",
    "# Optional: uncomment if you want to test with an actual model\n",
    "# from langchain_openai import ChatOpenAI\n",
    "# chat_model = ChatOpenAI(model=\"gpt-4o-mini\")"
   ]
  },
  {
   "cell_type": "markdown",
   "id": "148a3315",
   "metadata": {},
   "source": [
    "## 🧩 What is LangGraph?\n",
    "\n",
    "LangGraph is a library from the LangChain team that enables **graph-based orchestration**.\n",
    "\n",
    "Instead of chaining components linearly (prompt → model → parser), LangGraph allows you to build **directed graphs** of computation — each node can represent a component or an agent.\n",
    "\n",
    "### Why graphs?\n",
    "- **Visual clarity**: you can visualize logic as a flowchart.\n",
    "- **Stateful control**: maintain and mutate state between nodes.\n",
    "- **Branching logic**: run different paths depending on results.\n",
    "- **Reusability**: each node can be reused independently."
   ]
  },
  {
   "cell_type": "markdown",
   "id": "b1e3b877",
   "metadata": {},
   "source": [
    "## ⚙️ Core Concepts\n",
    "\n",
    "| Concept | Description |\n",
    "|----------|--------------|\n",
    "| **Graph** | The full system — a collection of connected nodes. |\n",
    "| **Node** | A single step in the process (LLM, function, or chain). |\n",
    "| **Edge** | The transition that connects nodes — defines the flow. |\n",
    "| **State** | The shared data dictionary that moves and updates through the graph. |\n",
    "| **Checkpointer** | Optional — saves and restores state across runs (for memory). |"
   ]
  },
  {
   "cell_type": "markdown",
   "id": "1614cafb",
   "metadata": {},
   "source": [
    "## 🚀 Example 1 — Minimal LangGraph Graph\n",
    "\n",
    "Let’s build a minimal graph with two nodes:\n",
    "1. **Start** → prints an initial message.\n",
    "2. **End** → transforms the input and stops.\n",
    "\n",
    "This shows the basic structure of a LangGraph pipeline."
   ]
  },
  {
   "cell_type": "code",
   "execution_count": 2,
   "id": "3f12ad0f",
   "metadata": {},
   "outputs": [
    {
     "name": "stdout",
     "output_type": "stream",
     "text": [
      "Start node running...\n",
      "End node reached.\n",
      "\n",
      "✅ Final state: {'messages': ['Graph started successfully!', 'Graph execution complete.']}\n"
     ]
    }
   ],
   "source": [
    "from langgraph.graph import StateGraph, START, END\n",
    "\n",
    "# 1️⃣ Define the state (shared data type)\n",
    "def add_message(state, new_text):\n",
    "    return {\"messages\": state.get(\"messages\", []) + [new_text]}\n",
    "\n",
    "# 2️⃣ Define node functions\n",
    "def start_node(state):\n",
    "    print(\"Start node running...\")\n",
    "    return add_message(state, \"Graph started successfully!\")\n",
    "\n",
    "def end_node(state):\n",
    "    print(\"End node reached.\")\n",
    "    return add_message(state, \"Graph execution complete.\")\n",
    "\n",
    "# 3️⃣ Build the graph\n",
    "graph = StateGraph(dict)\n",
    "graph.add_node(\"start\", start_node)\n",
    "graph.add_node(\"end\", end_node)\n",
    "graph.add_edge(START, \"start\")\n",
    "graph.add_edge(\"start\", \"end\")\n",
    "graph.add_edge(\"end\", END)\n",
    "\n",
    "graph_instance = graph.compile()\n",
    "\n",
    "# 4️⃣ Run the graph\n",
    "output = graph_instance.invoke({\"messages\": []})\n",
    "print(\"\\n✅ Final state:\", output)"
   ]
  },
  {
   "cell_type": "markdown",
   "id": "5fd3c4cf",
   "metadata": {},
   "source": [
    "## 🔍 What happens step by step\n",
    "\n",
    "1. **START** → triggers `start_node()`\n",
    "2. `start_node()` adds a new message to the state.\n",
    "3. Control flows to `end_node()`\n",
    "4. `end_node()` modifies the state again.\n",
    "5. The graph ends, returning the updated `state` dictionary.\n",
    "\n",
    "💡 Output example:\n",
    "```python\n",
    "{'messages': ['Graph started successfully!', 'Graph execution complete.']}\n",
    "```"
   ]
  },
  {
   "cell_type": "markdown",
   "id": "4f5997ba",
   "metadata": {},
   "source": [
    "## 🧠 Why this matters\n",
    "\n",
    "Even this minimal example already shows LangGraph’s power:\n",
    "- You have **clear nodes and edges** (no hidden control flow).\n",
    "- You can inspect and manipulate **state** easily.\n",
    "- You can later replace `print()` nodes with **LLM calls**, **retrievers**, **tools**, or **memory checkpointers**.\n",
    "\n",
    "That’s exactly what we’ll do in the next notebooks."
   ]
  },
  {
   "cell_type": "markdown",
   "id": "b780f758",
   "metadata": {},
   "source": [
    "## ✅ Summary\n",
    "\n",
    "- **LangGraph** organizes logic as a graph (nodes, edges, state).\n",
    "- Each node is a **runnable** (function, model, or chain).\n",
    "- The graph manages execution order and shared state.\n",
    "- You can easily extend this to include **memory** and **LLMs**."
   ]
  }
 ],
 "metadata": {
  "kernelspec": {
   "display_name": "Python 3 (ipykernel)",
   "language": "python",
   "name": "python3"
  },
  "language_info": {
   "codemirror_mode": {
    "name": "ipython",
    "version": 3
   },
   "file_extension": ".py",
   "mimetype": "text/x-python",
   "name": "python",
   "nbconvert_exporter": "python",
   "pygments_lexer": "ipython3",
   "version": "3.12.11"
  }
 },
 "nbformat": 4,
 "nbformat_minor": 5
}
