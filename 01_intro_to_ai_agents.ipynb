{
 "cells": [
  {
   "cell_type": "markdown",
   "id": "f1b066ea",
   "metadata": {},
   "source": [
    "# 01 — Introduction to AI Agents\n",
    "\n",
    "AI agents are one of the most important concepts in modern AI engineering — but also one of the most misunderstood.\n",
    "\n",
    "In this notebook, you'll learn:\n",
    "- What an **AI agent** really is.\n",
    "- The difference between **simple workflows** and **true autonomous agents**.\n",
    "- The role of **orchestrators** like **LangGraph** and **CrewAI**.\n",
    "- How agents are evolving toward adaptive, goal-driven systems."
   ]
  },
  {
   "cell_type": "markdown",
   "id": "51efb26e",
   "metadata": {},
   "source": [
    "## 🧩 What is an AI Agent?\n",
    "\n",
    "An **AI agent** is a system that can:\n",
    "1. **Perceive** its environment or context,\n",
    "2. **Decide** what to do based on that information,\n",
    "3. **Act** to achieve a specific **goal**,\n",
    "4. **Iterate** — updating its state and learning from feedback.\n",
    "\n",
    "In short:\n",
    "> 🔁 Agents **think → decide → act → reflect** — not just generate text."
   ]
  },
  {
   "cell_type": "markdown",
   "id": "7be41b6c",
   "metadata": {},
   "source": [
    "## ⚙️ Typical AI Agent Loop\n",
    "\n",
    "```\n",
    "+-------------------+\n",
    "|  Input / Context  | ← from user, API, or memory\n",
    "+-------------------+\n",
    "          ↓\n",
    "+-------------------+\n",
    "|    Reason / Plan  | ← LLM decides what to do next\n",
    "+-------------------+\n",
    "          ↓\n",
    "+-------------------+\n",
    "| Execute Actions   | ← via tools, APIs, or code\n",
    "+-------------------+\n",
    "          ↓\n",
    "+-------------------+\n",
    "|  Observe Results  | ← environment feedback\n",
    "+-------------------+\n",
    "          ↓\n",
    "       (loop again)\n",
    "```\n",
    "\n",
    "This structure allows an agent to **plan, execute, and adapt** — not just answer."
   ]
  },
  {
   "cell_type": "markdown",
   "id": "d2f466b0",
   "metadata": {},
   "source": [
    "## ⚖️ Workflows vs Agents\n",
    "\n",
    "| Concept | Description | Example |\n",
    "|----------|--------------|----------|\n",
    "| **Automation / Workflow** | A predefined sequence of steps with no reasoning. | \"When a file is uploaded → send an email.\" |\n",
    "| **Agent** | A system that reasons, makes decisions, and takes actions toward goals. | “Research a topic, decide what sources to trust, and write a report.” |\n",
    "\n",
    "**👉 In short:**\n",
    "- *Workflow* = static logic.  \n",
    "- *Agent* = dynamic reasoning and decision-making."
   ]
  },
  {
   "cell_type": "markdown",
   "id": "3d114bd2",
   "metadata": {},
   "source": [
    "## 🧭 Key Components of an Agent\n",
    "\n",
    "1. **LLM (Brain)** — reasoning and planning.  \n",
    "2. **Memory** — stores context between steps or sessions.  \n",
    "3. **Tools** — functions or APIs the agent can call.  \n",
    "4. **Orchestrator** — controls flow, decisions, and error handling.  \n",
    "5. **State** — tracks progress and environment information."
   ]
  },
  {
   "cell_type": "markdown",
   "id": "68b2a3d8",
   "metadata": {},
   "source": [
    "## 🧱 Why Orchestrators Matter\n",
    "\n",
    "Orchestrators like **LangGraph** and **CrewAI** are frameworks that help you **structure and coordinate** agents safely and efficiently.\n",
    "\n",
    "Without them, you'd manually write all the logic: loops, context tracking, retries, memory…  \n",
    "With them, you define components declaratively, and they handle orchestration for you."
   ]
  },
  {
   "cell_type": "markdown",
   "id": "08a2e470",
   "metadata": {},
   "source": [
    "## 🌀 LangGraph — Graph-Based Orchestration\n",
    "\n",
    "LangGraph (from LangChain team) represents agent logic as a **graph**:\n",
    "- **Nodes** = steps or components (LLM, tools, functions, memory).\n",
    "- **Edges** = control flow connections.\n",
    "- **State** = the data shared and updated through the graph.\n",
    "\n",
    "LangGraph focuses on:\n",
    "- Explicit control over **state and memory**.\n",
    "- **Visualizable** flow (you can literally draw it).\n",
    "- Integration with **LangChain** components.\n",
    "\n",
    "📘 You’ll explore this in depth in the next notebook."
   ]
  },
  {
   "cell_type": "markdown",
   "id": "9ebf4e55",
   "metadata": {},
   "source": [
    "## 🤝 CrewAI — Agent Collaboration Framework\n",
    "\n",
    "CrewAI organizes agents into **crews** that collaborate to achieve goals.\n",
    "- Each **Agent** has a role (e.g., “Researcher”, “Writer”, “Reviewer”).\n",
    "- Each **Task** defines what needs to be done.\n",
    "- The **Crew** coordinates agents, manages iterations, and aggregates results.\n",
    "\n",
    "It focuses on **multi-agent orchestration** and **role-based collaboration**.\n",
    "\n",
    "📘 You’ll build your first CrewAI project later in this repo."
   ]
  },
  {
   "cell_type": "markdown",
   "id": "92010e2d",
   "metadata": {},
   "source": [
    "## 🚀 Evolution of Agents\n",
    "\n",
    "| Generation | Description | Example |\n",
    "|-------------|--------------|----------|\n",
    "| 1️⃣ | Static workflows | Zapier, basic chains |\n",
    "| 2️⃣ | Reactive agents | Auto-GPT, BabyAGI |\n",
    "| 3️⃣ | Structured orchestration | LangGraph, CrewAI |\n",
    "| 4️⃣ | Adaptive systems (coming soon) | Multi-agent reasoning + reinforcement learning |"
   ]
  },
  {
   "cell_type": "markdown",
   "id": "1ebe9d0f",
   "metadata": {},
   "source": [
    "## 💬 Quick reflection\n",
    "\n",
    "> Agents are **not just chatbots** — they are **goal-driven systems** that can reason, plan, and act through structured orchestration.\n",
    "\n",
    "Modern frameworks like **LangGraph** and **CrewAI** give you the tools to build these systems safely and effectively."
   ]
  }
 ],
 "metadata": {
  "kernelspec": {
   "display_name": "Python 3 (ipykernel)",
   "language": "python",
   "name": "python3"
  },
  "language_info": {
   "codemirror_mode": {
    "name": "ipython",
    "version": 3
   },
   "file_extension": ".py",
   "mimetype": "text/x-python",
   "name": "python",
   "nbconvert_exporter": "python",
   "pygments_lexer": "ipython3",
   "version": "3.12.11"
  }
 },
 "nbformat": 4,
 "nbformat_minor": 5
}
