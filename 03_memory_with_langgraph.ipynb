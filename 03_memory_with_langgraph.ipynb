{
 "cells": [
  {
   "cell_type": "markdown",
   "id": "38b50ccc",
   "metadata": {},
   "source": [
    "# 03 — Memory with LangGraph 🧠\n",
    "\n",
    "In this notebook, you’ll learn how to use **memory** in LangGraph — both **temporary** (in RAM) and **persistent** (saved to disk with SQLite).\n",
    "\n",
    "Modern LangGraph handles memory through **checkpointers**, which automatically store and restore the graph’s state between runs.\n",
    "\n",
    "We’ll build two examples:\n",
    "- A temporary memory graph (cleared when the app stops)\n",
    "- A persistent memory graph (saved using SQLite, reusable across sessions)"
   ]
  },
  {
   "cell_type": "code",
   "execution_count": 1,
   "id": "ca293623",
   "metadata": {},
   "outputs": [
    {
     "name": "stdout",
     "output_type": "stream",
     "text": [
      "✅ Environment loaded.\n"
     ]
    }
   ],
   "source": [
    "# --- Setup: Load environment and (optional) model ---\n",
    "import os\n",
    "from dotenv import load_dotenv, find_dotenv\n",
    "\n",
    "_ = load_dotenv(find_dotenv())\n",
    "\n",
    "openai_api_key = os.getenv(\"OPENAI_API_KEY\")\n",
    "groq_api_key = os.getenv(\"GROQ_API_KEY\")\n",
    "print(\"✅ Environment loaded.\")\n",
    "\n",
    "# Optional: define model if you want to use it later\n",
    "# from langchain_openai import ChatOpenAI\n",
    "# chat_model = ChatOpenAI(model=\"gpt-4o-mini\")"
   ]
  },
  {
   "cell_type": "markdown",
   "id": "d54a81d4",
   "metadata": {},
   "source": [
    "## 🧩 What is Memory in LangGraph?\n",
    "\n",
    "LangGraph introduces the idea of **stateful graphs** — where each node can update or read from a **shared state**.  \n",
    "To make that state persist across runs, LangGraph uses **Checkpointers**.\n",
    "\n",
    "### Two main types of memory\n",
    "\n",
    "| Type | Description | Use Case |\n",
    "|------|--------------|-----------|\n",
    "| **MemorySaver** | Stores state temporarily in RAM. | Fast experiments, prototypes. |\n",
    "| **SqliteSaver** | Saves state permanently on disk. | Persistent agents, production apps. |\n",
    "\n",
    "👉 The logic of your graph stays the same — only the checkpointer changes."
   ]
  },
  {
   "cell_type": "markdown",
   "id": "166bf725",
   "metadata": {},
   "source": [
    "## 🧠 Example 1 — Temporary Memory (RAM)\n",
    "\n",
    "Let’s start with a minimal example that stores state in memory.\n",
    "\n",
    "When we run the graph multiple times **within the same session**, it remembers previous values.  \n",
    "If you restart the notebook, the memory resets."
   ]
  },
  {
   "cell_type": "code",
   "execution_count": 2,
   "id": "f968beb5",
   "metadata": {},
   "outputs": [
    {
     "name": "stdout",
     "output_type": "stream",
     "text": [
      "Current count: 1\n",
      "{'count': 1}\n",
      "Current count: 2\n",
      "{'count': 2}\n",
      "Current count: 3\n",
      "{'count': 3}\n"
     ]
    }
   ],
   "source": [
    "# Minimal in-memory counter with LangGraph (state kept in RAM)\n",
    "\n",
    "from typing import TypedDict, Annotated\n",
    "from operator import add\n",
    "\n",
    "from langgraph.graph import StateGraph, START, END\n",
    "from langgraph.checkpoint.memory import MemorySaver\n",
    "\n",
    "# 1) State schema: 'count' accumulates by adding deltas\n",
    "class State(TypedDict):\n",
    "    count: Annotated[int, add]\n",
    "\n",
    "# 2) Node: show next value; return the delta (+1)\n",
    "def increment_node(state: State) -> State:\n",
    "    current = state.get(\"count\", 0) + 1\n",
    "    print(f\"Current count: {current}\")\n",
    "    return {\"count\": 1}  # delta to be added by the reducer\n",
    "\n",
    "# 3) Build graph\n",
    "graph = StateGraph(State)\n",
    "graph.add_node(\"increment\", increment_node)\n",
    "graph.add_edge(START, \"increment\")\n",
    "graph.add_edge(\"increment\", END)\n",
    "\n",
    "# 4) In-memory checkpointer (RAM only)\n",
    "memory = MemorySaver()\n",
    "app = graph.compile(checkpointer=memory)\n",
    "\n",
    "# 5) Run multiple times with the same thread_id → state persists across invokes\n",
    "thread_id = \"session-001\"\n",
    "\n",
    "print(app.invoke({\"count\": 0}, config={\"configurable\": {\"thread_id\": thread_id}}))  # {'count': 1}\n",
    "print(app.invoke({},          config={\"configurable\": {\"thread_id\": thread_id}}))    # {'count': 2}\n",
    "print(app.invoke({},          config={\"configurable\": {\"thread_id\": thread_id}}))    # {'count': 3}"
   ]
  },
  {
   "cell_type": "markdown",
   "id": "eaa0a22d",
   "metadata": {},
   "source": [
    "### 🔍 Output (example)\n",
    "```\n",
    "Current count: 1\n",
    "{'count': 1}\n",
    "Current count: 2\n",
    "{'count': 2}\n",
    "Current count: 3\n",
    "{'count': 3}\n",
    "```\n",
    "\n",
    "👉 Notice how the `count` variable **persists across invocations** as long as you use the same `thread_id`."
   ]
  },
  {
   "cell_type": "markdown",
   "id": "15363408",
   "metadata": {},
   "source": [
    "## 💾 Example 2 — Persistent Memory (SQLite)\n",
    "\n",
    "For long-term persistence across restarts, use a **SQLite checkpointer**.  \n",
    "This stores the graph’s state in a local database file (by default `memory.sqlite`).\n",
    "\n",
    "You can close and reopen your notebook later — and the graph will continue where it left off."
   ]
  },
  {
   "cell_type": "code",
   "execution_count": 4,
   "id": "2fbcd5fb",
   "metadata": {},
   "outputs": [
    {
     "name": "stdout",
     "output_type": "stream",
     "text": [
      "Current count: 4\n",
      "{'count': 4}\n",
      "Current count: 5\n",
      "{'count': 5}\n",
      "Current count: 6\n",
      "{'count': 6}\n"
     ]
    }
   ],
   "source": [
    "from langgraph.checkpoint.sqlite import SqliteSaver\n",
    "\n",
    "# 💾 Example 2 — Persistent Memory (SQLite)\n",
    "# For long-term persistence across notebook restarts.\n",
    "\n",
    "# Use context manager so the connection is properly opened/closed\n",
    "with SqliteSaver.from_conn_string(\"memory.sqlite\") as sqlite_memory:\n",
    "\n",
    "    # 1️⃣ Compile the same graph, but now with SQLite checkpointer\n",
    "    graph_persistent = graph.compile(checkpointer=sqlite_memory)\n",
    "\n",
    "    # 2️⃣ Run multiple times (state persists between runs)\n",
    "    thread_id = \"persistent-session\"\n",
    "\n",
    "    for i in range(3):\n",
    "        result = graph_persistent.invoke(\n",
    "            {}, \n",
    "            config={\"configurable\": {\"thread_id\": thread_id}}\n",
    "        )\n",
    "        print(result)"
   ]
  },
  {
   "cell_type": "markdown",
   "id": "b3f90715",
   "metadata": {},
   "source": [
    "### ✅ What happens\n",
    "- The first run initializes `count = 1`.\n",
    "- The second and third runs continue from the previous value.\n",
    "- If you **restart the notebook**, the counter still resumes from where it left off.\n",
    "\n",
    "🧱 SQLite stores checkpoints in `memory.sqlite` (in your repo folder). You can inspect it with any SQLite viewer."
   ]
  },
  {
   "cell_type": "markdown",
   "id": "888fd96c",
   "metadata": {},
   "source": [
    "## ⚙️ How it works internally\n",
    "\n",
    "Each time you run the graph:\n",
    "1. LangGraph looks for an existing checkpoint for the same `thread_id`.\n",
    "2. It restores the saved `state` from the last run.\n",
    "3. It runs your nodes (which can update state values).\n",
    "4. It saves the new state at the end of the execution.\n",
    "\n",
    "That’s how you get **persistent stateful behavior** in agents and chains."
   ]
  },
  {
   "cell_type": "markdown",
   "id": "3363f394",
   "metadata": {},
   "source": [
    "## 🔮 Practical use cases\n",
    "\n",
    "- **Short-term memory:** keep a conversation or reasoning chain alive during an app session.\n",
    "- **Persistent memory:** store progress or agent state between user sessions (e.g., saving task results, context summaries, or user preferences).\n",
    "- **Hybrid setups:** use `MemorySaver` for scratchpad reasoning and `SqliteSaver` for long-term goals.\n",
    "\n",
    "👉 You’ll use this same pattern later in multi-agent orchestration with **CrewAI** and **LangGraph** combined."
   ]
  },
  {
   "cell_type": "markdown",
   "id": "fb922339",
   "metadata": {},
   "source": [
    "## ✅ Summary\n",
    "\n",
    "| Type | Class | Persistence | Best For |\n",
    "|------|--------|--------------|-----------|\n",
    "| **MemorySaver** | `langgraph.checkpoint.memory` | Volatile (RAM) | Experiments, demos |\n",
    "| **SqliteSaver** | `langgraph.checkpoint.sqlite` | Persistent (Disk) | Real apps, multi-session agents |\n",
    "\n",
    "💡 Both use the same graph logic — only the **checkpointer** changes."
   ]
  }
 ],
 "metadata": {
  "kernelspec": {
   "display_name": "Python 3 (ipykernel)",
   "language": "python",
   "name": "python3"
  },
  "language_info": {
   "codemirror_mode": {
    "name": "ipython",
    "version": 3
   },
   "file_extension": ".py",
   "mimetype": "text/x-python",
   "name": "python",
   "nbconvert_exporter": "python",
   "pygments_lexer": "ipython3",
   "version": "3.12.11"
  }
 },
 "nbformat": 4,
 "nbformat_minor": 5
}
