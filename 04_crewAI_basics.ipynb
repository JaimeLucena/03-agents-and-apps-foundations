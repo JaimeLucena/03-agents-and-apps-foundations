{
 "cells": [
  {
   "cell_type": "markdown",
   "id": "36c204b5",
   "metadata": {},
   "source": [
    "# 04 — CrewAI Basics\n",
    "\n",
    "In this notebook you'll learn the fundamentals of **CrewAI** — a framework for building **collaborative, multi-agent** systems.\n",
    "\n",
    "We will cover:\n",
    "- What CrewAI is and when to use it\n",
    "- Core concepts: **Agent**, **Task**, **Crew**, and **Process**\n",
    "- A minimal two-agent example: **Researcher** + **Writer**\n",
    "\n",
    "> This notebook is designed to run with **OpenAI** (or another provider compatible with your CrewAI version). If no API key is found, the notebook will safely skip the live run and show the structure instead."
   ]
  },
  {
   "cell_type": "code",
   "execution_count": 1,
   "id": "a5f16768",
   "metadata": {},
   "outputs": [
    {
     "name": "stdout",
     "output_type": "stream",
     "text": [
      "✅ Environment loaded. OpenAI key detected: True\n"
     ]
    }
   ],
   "source": [
    "# --- Environment setup (dotenv) ---\n",
    "import os\n",
    "from dotenv import load_dotenv, find_dotenv\n",
    "_ = load_dotenv(find_dotenv())\n",
    "\n",
    "openai_api_key = os.getenv(\"OPENAI_API_KEY\")\n",
    "print(\"✅ Environment loaded. OpenAI key detected:\", bool(openai_api_key))"
   ]
  },
  {
   "cell_type": "markdown",
   "id": "f45fec63",
   "metadata": {},
   "source": [
    "## 🧭 What is CrewAI?\n",
    "\n",
    "**CrewAI** is a framework for orchestrating **multiple AI agents** that collaborate to achieve a goal. Each **Agent** has a role, a backstory, skills (tools), and a goal. A **Task** describes a piece of work assigned to an agent. A **Crew** coordinates agents and tasks, choosing a **Process** (sequential or hierarchical) to execute the plan.\n",
    "\n",
    "### Core concepts\n",
    "- **Agent** → A role-driven LLM with a goal and (optionally) tools.\n",
    "- **Task** → A unit of work with a clear objective and acceptance criteria.\n",
    "- **Crew** → The orchestrator that runs tasks with agents.\n",
    "- **Process** → How the crew executes (e.g., `sequential`, `hierarchical`).\n",
    "\n",
    "> Think of CrewAI as a way to make LLMs **collaborate** with clear responsibilities."
   ]
  },
  {
   "cell_type": "markdown",
   "id": "de67bc1f",
   "metadata": {},
   "source": [
    "## ⚙️ Minimal example: Researcher + Writer\n",
    "\n",
    "We will:\n",
    "1) Define two **Agents** (Researcher, Writer)\n",
    "2) Define two **Tasks** (gather facts, write an article)\n",
    "3) Run them **sequentially** in a **Crew**\n",
    "\n",
    "If no API key is set, the code will **skip the live run** and just print what would happen."
   ]
  },
  {
   "cell_type": "code",
   "execution_count": null,
   "id": "e454a2bd",
   "metadata": {},
   "outputs": [],
   "source": [
    "# --- Imports for CrewAI ---\n",
    "from crewai import Agent, Task, Crew, Process\n",
    "from langchain_openai import ChatOpenAI\n",
    "\n",
    "# Shared LLM (reads OPENAI_API_KEY from .env)\n",
    "llm = ChatOpenAI(model=\"gpt-4o-mini\")\n",
    "\n",
    "# Define agents\n",
    "researcher = Agent(\n",
    "    role=\"Researcher\",\n",
    "    goal=\"Find accurate, up-to-date facts about a given topic.\",\n",
    "    backstory=\"You are a meticulous researcher. You gather reliable facts, organize them, and cite sources when possible.\",\n",
    "    llm=llm,\n",
    "    verbose=True,\n",
    ")\n",
    "\n",
    "writer = Agent(\n",
    "    role=\"Writer\",\n",
    "    goal=\"Write a clear, engaging article from provided facts.\",\n",
    "    backstory=\"You are a concise technical writer. You transform raw notes into a well-structured article for a general audience.\",\n",
    "    llm=llm,\n",
    "    verbose=True,\n",
    ")\n",
    "\n",
    "# Define tasks\n",
    "topic = \"renewable energy technologies\"\n",
    "\n",
    "gather_facts = Task(\n",
    "    description=f\"Research key facts about {topic}. Include short bullets on solar, wind, and energy storage.\",\n",
    "    expected_output=\"A bullet list (5-8 bullets) with concise, factual points relevant to the topic.\",\n",
    "    agent=researcher,\n",
    ")\n",
    "\n",
    "write_article = Task(\n",
    "    description=\"Using the researcher's notes, write a short article (120–180 words) explaining the topic to a non-expert audience.\",\n",
    "    expected_output=\"A cohesive, well-structured article with an intro, 1–2 body paragraphs, and a concise conclusion.\",\n",
    "    agent=writer,\n",
    "    context=[gather_facts],  # pass previous task output as context\n",
    ")\n",
    "\n",
    "# Create the crew (sequential process)\n",
    "crew = Crew(\n",
    "    agents=[researcher, writer],\n",
    "    tasks=[gather_facts, write_article],\n",
    "    process=Process.sequential,\n",
    "    verbose=True,\n",
    ")\n",
    "\n",
    "# Run the crew and print results\n",
    "result = crew.kickoff()\n",
    "\n",
    "final_text = getattr(result, \"final_output\", None) or getattr(result, \"raw\", None) or str(result)\n",
    "print(\"\\n--- Final Output ---\\n\")\n",
    "print(final_text)"
   ]
  },
  {
   "cell_type": "markdown",
   "id": "82a1b9e2",
   "metadata": {},
   "source": [
    "## 🔍 What happened\n",
    "\n",
    "- We created two **agents** with different roles and writing styles.\n",
    "- We defined two **tasks**: one for research and one for writing.\n",
    "- The **crew** executed them in a **sequential** process.\n",
    "\n",
    "### Process types\n",
    "- `Process.sequential` → simple pipeline (A then B then C)\n",
    "- `Process.hierarchical` → a manager agent delegates tasks and reviews outputs\n",
    "\n",
    "> Start with `sequential` for clarity. Switch to `hierarchical` when you need oversight, reviews, or dynamic tasking."
   ]
  },
  {
   "cell_type": "markdown",
   "id": "58fc4c4d",
   "metadata": {},
   "source": [
    "## 🧩 Tips & Good Practices\n",
    "\n",
    "- Keep agent **goals** short and specific.\n",
    "- Use **expected_output** in tasks to stabilize the format.\n",
    "- Prefer **small, cheap models** for initial experiments (`gpt-4o-mini`).\n",
    "- Add **tools** later (e.g., web search, vector DBs) once the flow works.\n",
    "- For production, implement **guardrails** and validation steps."
   ]
  },
  {
   "cell_type": "markdown",
   "id": "7c002771",
   "metadata": {},
   "source": [
    "## ✅ Summary\n",
    "\n",
    "- CrewAI helps you **coordinate multiple agents** with clear roles and tasks.\n",
    "- Start with a **sequential** process to make behavior easy to reason about.\n",
    "- You can plug in tools, memory, and validation as your needs grow.\n"
   ]
  }
 ],
 "metadata": {
  "kernelspec": {
   "display_name": "Python 3 (ipykernel)",
   "language": "python",
   "name": "python3"
  },
  "language_info": {
   "codemirror_mode": {
    "name": "ipython",
    "version": 3
   },
   "file_extension": ".py",
   "mimetype": "text/x-python",
   "name": "python",
   "nbconvert_exporter": "python",
   "pygments_lexer": "ipython3",
   "version": "3.12.11"
  }
 },
 "nbformat": 4,
 "nbformat_minor": 5
}
